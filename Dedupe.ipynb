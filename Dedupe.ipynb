{
 "cells": [
  {
   "cell_type": "code",
   "execution_count": 50,
   "metadata": {},
   "outputs": [],
   "source": [
    "from scipy.sparse import csr_matrix\n",
    "import sparse_dot_topn.sparse_dot_topn as ct\n",
    "from sklearn.feature_extraction.text import TfidfVectorizer\n",
    "import pandas as pd\n",
    "import numpy as np\n",
    "import os"
   ]
  },
  {
   "cell_type": "code",
   "execution_count": 51,
   "metadata": {},
   "outputs": [],
   "source": [
    "os.chdir(r\"C:\\Users\\gsyoume\\Desktop\\KIS DATA WAREHOUESE\\pre-processing\\test_excel\\other\\NLP-with-Python\")"
   ]
  },
  {
   "cell_type": "code",
   "execution_count": 52,
   "metadata": {},
   "outputs": [],
   "source": [
    "df = pd.read_csv('Seattle_Hotels_Duplicates - Copy2.csv', encoding=\"latin-1\")"
   ]
  },
  {
   "cell_type": "code",
   "execution_count": 53,
   "metadata": {},
   "outputs": [
    {
     "data": {
      "text/html": [
       "<div>\n",
       "<style scoped>\n",
       "    .dataframe tbody tr th:only-of-type {\n",
       "        vertical-align: middle;\n",
       "    }\n",
       "\n",
       "    .dataframe tbody tr th {\n",
       "        vertical-align: top;\n",
       "    }\n",
       "\n",
       "    .dataframe thead th {\n",
       "        text-align: right;\n",
       "    }\n",
       "</style>\n",
       "<table border=\"1\" class=\"dataframe\">\n",
       "  <thead>\n",
       "    <tr style=\"text-align: right;\">\n",
       "      <th></th>\n",
       "      <th>id</th>\n",
       "      <th>name</th>\n",
       "      <th>address</th>\n",
       "    </tr>\n",
       "  </thead>\n",
       "  <tbody>\n",
       "    <tr>\n",
       "      <th>0</th>\n",
       "      <td>a</td>\n",
       "      <td>Hilton Garden Inn Seattle Downtown</td>\n",
       "      <td>1821 Boren Avenue, Seattle Washington 98101 USA</td>\n",
       "    </tr>\n",
       "    <tr>\n",
       "      <th>1</th>\n",
       "      <td>0</td>\n",
       "      <td>Sheraton Grand Seattle</td>\n",
       "      <td>1400 6th Avenue, Seattle, Washington 98101 USA</td>\n",
       "    </tr>\n",
       "    <tr>\n",
       "      <th>2</th>\n",
       "      <td>0</td>\n",
       "      <td>Crowne Plaza Seattle Downtown</td>\n",
       "      <td>1113 6th Ave, Seattle, WA 98101</td>\n",
       "    </tr>\n",
       "    <tr>\n",
       "      <th>3</th>\n",
       "      <td>0</td>\n",
       "      <td>Kimpton Hotel Monaco Seattle</td>\n",
       "      <td>1101 4th Ave, Seattle, WA98101</td>\n",
       "    </tr>\n",
       "    <tr>\n",
       "      <th>4</th>\n",
       "      <td>0</td>\n",
       "      <td>The Westin Seattle</td>\n",
       "      <td>1900 5th Avenue, Seattle, Washington 98101 USA</td>\n",
       "    </tr>\n",
       "  </tbody>\n",
       "</table>\n",
       "</div>"
      ],
      "text/plain": [
       "  id                                name  \\\n",
       "0  a  Hilton Garden Inn Seattle Downtown   \n",
       "1  0              Sheraton Grand Seattle   \n",
       "2  0       Crowne Plaza Seattle Downtown   \n",
       "3  0       Kimpton Hotel Monaco Seattle    \n",
       "4  0                  The Westin Seattle   \n",
       "\n",
       "                                           address  \n",
       "0  1821 Boren Avenue, Seattle Washington 98101 USA  \n",
       "1   1400 6th Avenue, Seattle, Washington 98101 USA  \n",
       "2                  1113 6th Ave, Seattle, WA 98101  \n",
       "3                   1101 4th Ave, Seattle, WA98101  \n",
       "4   1900 5th Avenue, Seattle, Washington 98101 USA  "
      ]
     },
     "execution_count": 53,
     "metadata": {},
     "output_type": "execute_result"
    }
   ],
   "source": [
    "df.head(5)"
   ]
  },
  {
   "cell_type": "code",
   "execution_count": 54,
   "metadata": {},
   "outputs": [
    {
     "data": {
      "text/plain": [
       "Seattle Inn Northgate                              2\n",
       "Ace Hotel Seattle                                  2\n",
       "Hotel Seattle                                      2\n",
       "Comfort Inn & Suites                               2\n",
       "citizenM Seattle South Lake Union hotel            2\n",
       "                                                  ..\n",
       "Hotel Hotel                                        1\n",
       "Days Inn Seattle South Tukwila                     1\n",
       "Mediterranean Inn                                  1\n",
       "Best Western Plus Pioneer Square Hotel Downtown    1\n",
       "The Paramount Hotel Seattle                        1\n",
       "Name: name, Length: 155, dtype: int64"
      ]
     },
     "execution_count": 54,
     "metadata": {},
     "output_type": "execute_result"
    }
   ],
   "source": [
    "df.name.value_counts()"
   ]
  },
  {
   "cell_type": "code",
   "execution_count": 55,
   "metadata": {},
   "outputs": [
    {
     "data": {
      "text/html": [
       "<div>\n",
       "<style scoped>\n",
       "    .dataframe tbody tr th:only-of-type {\n",
       "        vertical-align: middle;\n",
       "    }\n",
       "\n",
       "    .dataframe tbody tr th {\n",
       "        vertical-align: top;\n",
       "    }\n",
       "\n",
       "    .dataframe thead th {\n",
       "        text-align: right;\n",
       "    }\n",
       "</style>\n",
       "<table border=\"1\" class=\"dataframe\">\n",
       "  <thead>\n",
       "    <tr style=\"text-align: right;\">\n",
       "      <th></th>\n",
       "      <th>id</th>\n",
       "      <th>name</th>\n",
       "      <th>address</th>\n",
       "    </tr>\n",
       "  </thead>\n",
       "  <tbody>\n",
       "    <tr>\n",
       "      <th>82</th>\n",
       "      <td>0</td>\n",
       "      <td>Roy Street Commons</td>\n",
       "      <td>621 12th Ave E, Seattle, WA 98102</td>\n",
       "    </tr>\n",
       "    <tr>\n",
       "      <th>90</th>\n",
       "      <td>0</td>\n",
       "      <td>Roy Street Commons</td>\n",
       "      <td>621 12th Avenue East, Seattle, Washington 98102</td>\n",
       "    </tr>\n",
       "  </tbody>\n",
       "</table>\n",
       "</div>"
      ],
      "text/plain": [
       "   id                name                                          address\n",
       "82  0  Roy Street Commons                621 12th Ave E, Seattle, WA 98102\n",
       "90  0  Roy Street Commons  621 12th Avenue East, Seattle, Washington 98102"
      ]
     },
     "execution_count": 55,
     "metadata": {},
     "output_type": "execute_result"
    }
   ],
   "source": [
    "df.loc[df['name'] == 'Roy Street Commons']"
   ]
  },
  {
   "cell_type": "code",
   "execution_count": 56,
   "metadata": {},
   "outputs": [],
   "source": [
    "df['name_address'] = df['name'] + ' ' + df['address']+ '_'+ df['id']\n",
    "name_address = df['name_address']\n"
   ]
  },
  {
   "cell_type": "code",
   "execution_count": 57,
   "metadata": {},
   "outputs": [],
   "source": [
    "vectorizer = TfidfVectorizer(\"char\", ngram_range=(1, 4), sublinear_tf=True)\n",
    "tf_idf_matrix = vectorizer.fit_transform(name_address)"
   ]
  },
  {
   "cell_type": "code",
   "execution_count": 58,
   "metadata": {},
   "outputs": [
    {
     "data": {
      "text/plain": [
       "<168x3236 sparse matrix of type '<class 'numpy.float64'>'\n",
       "\twith 6006 stored elements in Compressed Sparse Row format>"
      ]
     },
     "execution_count": 58,
     "metadata": {},
     "output_type": "execute_result"
    }
   ],
   "source": [
    "tf_idf_matrix"
   ]
  },
  {
   "cell_type": "code",
   "execution_count": 59,
   "metadata": {},
   "outputs": [],
   "source": [
    "def awesome_cossim_top(A, B, ntop, lower_bound=0):\n",
    "  \n",
    "    A = A.tocsr()\n",
    "    B = B.tocsr()\n",
    "    M, _ = A.shape\n",
    "    _, N = B.shape\n",
    " \n",
    "    idx_dtype = np.int32\n",
    " \n",
    "    nnz_max = M*ntop\n",
    " \n",
    "    indptr = np.zeros(M+1, dtype=idx_dtype)\n",
    "    indices = np.zeros(nnz_max, dtype=idx_dtype)\n",
    "    data = np.zeros(nnz_max, dtype=A.dtype)\n",
    "\n",
    "    ct.sparse_dot_topn(\n",
    "        M, N, np.asarray(A.indptr, dtype=idx_dtype),\n",
    "        np.asarray(A.indices, dtype=idx_dtype),\n",
    "        A.data,\n",
    "        np.asarray(B.indptr, dtype=idx_dtype),\n",
    "        np.asarray(B.indices, dtype=idx_dtype),\n",
    "        B.data,\n",
    "        ntop,\n",
    "        lower_bound,\n",
    "        indptr, indices, data)\n",
    "\n",
    "    return csr_matrix((data,indices,indptr),shape=(M,N))\n",
    "\n",
    "matches = awesome_cossim_top(tf_idf_matrix, tf_idf_matrix.transpose(), 5)"
   ]
  },
  {
   "cell_type": "code",
   "execution_count": 60,
   "metadata": {},
   "outputs": [
    {
     "data": {
      "text/plain": [
       "<168x168 sparse matrix of type '<class 'numpy.float64'>'\n",
       "\twith 840 stored elements in Compressed Sparse Row format>"
      ]
     },
     "execution_count": 60,
     "metadata": {},
     "output_type": "execute_result"
    }
   ],
   "source": [
    "matches"
   ]
  },
  {
   "cell_type": "code",
   "execution_count": 61,
   "metadata": {},
   "outputs": [],
   "source": [
    "def get_matches_df(sparse_matrix, name_vector, top=840):\n",
    "    non_zeros = sparse_matrix.nonzero()\n",
    "    \n",
    "    sparserows = non_zeros[0]\n",
    "    sparsecols = non_zeros[1]\n",
    "    \n",
    "    if top:\n",
    "        nr_matches = top\n",
    "    else:\n",
    "        nr_matches = sparsecols.size\n",
    "    \n",
    "    left_side = np.empty([nr_matches], dtype=object)\n",
    "    right_side = np.empty([nr_matches], dtype=object)\n",
    "    similairity = np.zeros(nr_matches)\n",
    "    \n",
    "    for index in range(0, nr_matches):\n",
    "        left_side[index] = name_vector[sparserows[index]]\n",
    "        right_side[index] = name_vector[sparsecols[index]]\n",
    "        similairity[index] = sparse_matrix.data[index]\n",
    "    \n",
    "    return pd.DataFrame({'left_side': left_side,\n",
    "                          'right_side': right_side,\n",
    "                           'similarity': similairity})\n",
    "\n",
    "matches_df = get_matches_df(matches, name_address)"
   ]
  },
  {
   "cell_type": "code",
   "execution_count": 62,
   "metadata": {},
   "outputs": [],
   "source": [
    "matches_df.to_csv('xx.csv')"
   ]
  },
  {
   "cell_type": "code",
   "execution_count": 63,
   "metadata": {},
   "outputs": [
    {
     "data": {
      "text/html": [
       "<div>\n",
       "<style scoped>\n",
       "    .dataframe tbody tr th:only-of-type {\n",
       "        vertical-align: middle;\n",
       "    }\n",
       "\n",
       "    .dataframe tbody tr th {\n",
       "        vertical-align: top;\n",
       "    }\n",
       "\n",
       "    .dataframe thead th {\n",
       "        text-align: right;\n",
       "    }\n",
       "</style>\n",
       "<table border=\"1\" class=\"dataframe\">\n",
       "  <thead>\n",
       "    <tr style=\"text-align: right;\">\n",
       "      <th></th>\n",
       "      <th>left_side</th>\n",
       "      <th>right_side</th>\n",
       "      <th>similarity</th>\n",
       "    </tr>\n",
       "  </thead>\n",
       "  <tbody>\n",
       "    <tr>\n",
       "      <th>826</th>\n",
       "      <td>Pike's Place Lux Suites by Barsala 2nd Ave and...</td>\n",
       "      <td>Pike's Place Lux Suites by Barsala 2rd Ave and...</td>\n",
       "      <td>0.734016</td>\n",
       "    </tr>\n",
       "    <tr>\n",
       "      <th>831</th>\n",
       "      <td>Pike's Place Lux Suites by Barsala 2rd Ave and...</td>\n",
       "      <td>Pike's Place Lux Suites by Barsala 2nd Ave and...</td>\n",
       "      <td>0.734016</td>\n",
       "    </tr>\n",
       "    <tr>\n",
       "      <th>256</th>\n",
       "      <td>Holiday Inn Express &amp; Suites Seattle City Cent...</td>\n",
       "      <td>Holiday Inn Express &amp; Suites Seattle-City Cent...</td>\n",
       "      <td>0.712321</td>\n",
       "    </tr>\n",
       "    <tr>\n",
       "      <th>206</th>\n",
       "      <td>Holiday Inn Express &amp; Suites Seattle-City Cent...</td>\n",
       "      <td>Holiday Inn Express &amp; Suites Seattle City Cent...</td>\n",
       "      <td>0.712321</td>\n",
       "    </tr>\n",
       "    <tr>\n",
       "      <th>181</th>\n",
       "      <td>Travelodge Seattle by The Space Needle 200 6th...</td>\n",
       "      <td>Travelodge Seattle by The Space Needle 200 6th...</td>\n",
       "      <td>0.669974</td>\n",
       "    </tr>\n",
       "    <tr>\n",
       "      <th>211</th>\n",
       "      <td>Travelodge Seattle by The Space Needle 200 6th...</td>\n",
       "      <td>Travelodge Seattle by The Space Needle 200 6th...</td>\n",
       "      <td>0.669974</td>\n",
       "    </tr>\n",
       "    <tr>\n",
       "      <th>836</th>\n",
       "      <td>citizenM Seattle South Lake Union hotel 201 We...</td>\n",
       "      <td>citizenM Seattle South Lake Union hotel 201 We...</td>\n",
       "      <td>0.651961</td>\n",
       "    </tr>\n",
       "    <tr>\n",
       "      <th>791</th>\n",
       "      <td>citizenM Seattle South Lake Union hotel 201 We...</td>\n",
       "      <td>citizenM Seattle South Lake Union hotel 201 We...</td>\n",
       "      <td>0.651961</td>\n",
       "    </tr>\n",
       "    <tr>\n",
       "      <th>586</th>\n",
       "      <td>Quality Inn &amp; Suites Seattle Center 618 John S...</td>\n",
       "      <td>Quality Inn &amp; Suites Seattle Center 618 John S...</td>\n",
       "      <td>0.627400</td>\n",
       "    </tr>\n",
       "    <tr>\n",
       "      <th>551</th>\n",
       "      <td>Quality Inn &amp; Suites Seattle Center 618 John S...</td>\n",
       "      <td>Quality Inn &amp; Suites Seattle Center 618 John S...</td>\n",
       "      <td>0.627400</td>\n",
       "    </tr>\n",
       "    <tr>\n",
       "      <th>746</th>\n",
       "      <td>Hyatt Regency Lake Washington At SeattleS Sout...</td>\n",
       "      <td>Hyatt Regency Lake Washington At SeattleS Sout...</td>\n",
       "      <td>0.614371</td>\n",
       "    </tr>\n",
       "    <tr>\n",
       "      <th>781</th>\n",
       "      <td>Hyatt Regency Lake Washington At SeattleS Sout...</td>\n",
       "      <td>Hyatt Regency Lake Washington At SeattleS Sout...</td>\n",
       "      <td>0.614371</td>\n",
       "    </tr>\n",
       "    <tr>\n",
       "      <th>46</th>\n",
       "      <td>Hilton Garden Inn Seattle Downtown 1821 Boren ...</td>\n",
       "      <td>Hilton Garden Inn Seattle Downtown 1821 Boren ...</td>\n",
       "      <td>0.602444</td>\n",
       "    </tr>\n",
       "    <tr>\n",
       "      <th>1</th>\n",
       "      <td>Hilton Garden Inn Seattle Downtown 1821 Boren ...</td>\n",
       "      <td>Hilton Garden Inn Seattle Downtown 1821 Boren ...</td>\n",
       "      <td>0.602444</td>\n",
       "    </tr>\n",
       "    <tr>\n",
       "      <th>341</th>\n",
       "      <td>Home2 Suites by Hilton Seattle Airport 380 Upl...</td>\n",
       "      <td>Home2 Suites by Hilton Seattle Airport 380 Upl...</td>\n",
       "      <td>0.582787</td>\n",
       "    </tr>\n",
       "    <tr>\n",
       "      <th>346</th>\n",
       "      <td>Home2 Suites by Hilton Seattle Airport 380 Upl...</td>\n",
       "      <td>Home2 Suites by Hilton Seattle Airport 380 Upl...</td>\n",
       "      <td>0.582787</td>\n",
       "    </tr>\n",
       "    <tr>\n",
       "      <th>546</th>\n",
       "      <td>Renaissance Seattle Hotel 515 Madison St, Seat...</td>\n",
       "      <td>Renaissance Seattle Hotel 515 Madison Street, ...</td>\n",
       "      <td>0.531174</td>\n",
       "    </tr>\n",
       "    <tr>\n",
       "      <th>561</th>\n",
       "      <td>Renaissance Seattle Hotel 515 Madison Street, ...</td>\n",
       "      <td>Renaissance Seattle Hotel 515 Madison St, Seat...</td>\n",
       "      <td>0.531174</td>\n",
       "    </tr>\n",
       "    <tr>\n",
       "      <th>391</th>\n",
       "      <td>Days Inn by Wyndham Seattle North of Downtown ...</td>\n",
       "      <td>Travelodge by Wyndham Seattle North of Downtow...</td>\n",
       "      <td>0.528202</td>\n",
       "    </tr>\n",
       "    <tr>\n",
       "      <th>396</th>\n",
       "      <td>Travelodge by Wyndham Seattle North of Downtow...</td>\n",
       "      <td>Days Inn by Wyndham Seattle North of Downtown ...</td>\n",
       "      <td>0.528202</td>\n",
       "    </tr>\n",
       "    <tr>\n",
       "      <th>441</th>\n",
       "      <td>Comfort Inn &amp; Suites 13700 Aurora Avenue North...</td>\n",
       "      <td>Comfort Inn &amp; Suites 13700 Aurora Ave N, Seatt...</td>\n",
       "      <td>0.527696</td>\n",
       "    </tr>\n",
       "    <tr>\n",
       "      <th>401</th>\n",
       "      <td>Comfort Inn &amp; Suites 13700 Aurora Ave N, Seatt...</td>\n",
       "      <td>Comfort Inn &amp; Suites 13700 Aurora Avenue North...</td>\n",
       "      <td>0.527696</td>\n",
       "    </tr>\n",
       "    <tr>\n",
       "      <th>451</th>\n",
       "      <td>Roy Street Commons 621 12th Avenue East, Seatt...</td>\n",
       "      <td>Roy Street Commons 621 12th Ave E, Seattle, WA...</td>\n",
       "      <td>0.499497</td>\n",
       "    </tr>\n",
       "    <tr>\n",
       "      <th>411</th>\n",
       "      <td>Roy Street Commons 621 12th Ave E, Seattle, WA...</td>\n",
       "      <td>Roy Street Commons 621 12th Avenue East, Seatt...</td>\n",
       "      <td>0.499497</td>\n",
       "    </tr>\n",
       "    <tr>\n",
       "      <th>11</th>\n",
       "      <td>Crowne Plaza Seattle Downtown 1113 6th Ave, Se...</td>\n",
       "      <td>Crowne Plaza Seattle 1113 6th Ave, Seattle, Wa...</td>\n",
       "      <td>0.462001</td>\n",
       "    </tr>\n",
       "    <tr>\n",
       "      <th>61</th>\n",
       "      <td>Crowne Plaza Seattle 1113 6th Ave, Seattle, Wa...</td>\n",
       "      <td>Crowne Plaza Seattle Downtown 1113 6th Ave, Se...</td>\n",
       "      <td>0.462001</td>\n",
       "    </tr>\n",
       "    <tr>\n",
       "      <th>671</th>\n",
       "      <td>Watertown Hotel - A Staypineapple Hotel 4242 R...</td>\n",
       "      <td>University Inn - A Staypineapple Hotel 4140 Ro...</td>\n",
       "      <td>0.432854</td>\n",
       "    </tr>\n",
       "    <tr>\n",
       "      <th>706</th>\n",
       "      <td>University Inn - A Staypineapple Hotel 4140 Ro...</td>\n",
       "      <td>Watertown Hotel - A Staypineapple Hotel 4242 R...</td>\n",
       "      <td>0.432854</td>\n",
       "    </tr>\n",
       "    <tr>\n",
       "      <th>182</th>\n",
       "      <td>Travelodge Seattle by The Space Needle 200 6th...</td>\n",
       "      <td>Executive Inn By The Space Needle 200 Taylor A...</td>\n",
       "      <td>0.428319</td>\n",
       "    </tr>\n",
       "    <tr>\n",
       "      <th>621</th>\n",
       "      <td>Executive Inn By The Space Needle 200 Taylor A...</td>\n",
       "      <td>Travelodge Seattle by The Space Needle 200 6th...</td>\n",
       "      <td>0.428319</td>\n",
       "    </tr>\n",
       "  </tbody>\n",
       "</table>\n",
       "</div>"
      ],
      "text/plain": [
       "                                             left_side  \\\n",
       "826  Pike's Place Lux Suites by Barsala 2nd Ave and...   \n",
       "831  Pike's Place Lux Suites by Barsala 2rd Ave and...   \n",
       "256  Holiday Inn Express & Suites Seattle City Cent...   \n",
       "206  Holiday Inn Express & Suites Seattle-City Cent...   \n",
       "181  Travelodge Seattle by The Space Needle 200 6th...   \n",
       "211  Travelodge Seattle by The Space Needle 200 6th...   \n",
       "836  citizenM Seattle South Lake Union hotel 201 We...   \n",
       "791  citizenM Seattle South Lake Union hotel 201 We...   \n",
       "586  Quality Inn & Suites Seattle Center 618 John S...   \n",
       "551  Quality Inn & Suites Seattle Center 618 John S...   \n",
       "746  Hyatt Regency Lake Washington At SeattleS Sout...   \n",
       "781  Hyatt Regency Lake Washington At SeattleS Sout...   \n",
       "46   Hilton Garden Inn Seattle Downtown 1821 Boren ...   \n",
       "1    Hilton Garden Inn Seattle Downtown 1821 Boren ...   \n",
       "341  Home2 Suites by Hilton Seattle Airport 380 Upl...   \n",
       "346  Home2 Suites by Hilton Seattle Airport 380 Upl...   \n",
       "546  Renaissance Seattle Hotel 515 Madison St, Seat...   \n",
       "561  Renaissance Seattle Hotel 515 Madison Street, ...   \n",
       "391  Days Inn by Wyndham Seattle North of Downtown ...   \n",
       "396  Travelodge by Wyndham Seattle North of Downtow...   \n",
       "441  Comfort Inn & Suites 13700 Aurora Avenue North...   \n",
       "401  Comfort Inn & Suites 13700 Aurora Ave N, Seatt...   \n",
       "451  Roy Street Commons 621 12th Avenue East, Seatt...   \n",
       "411  Roy Street Commons 621 12th Ave E, Seattle, WA...   \n",
       "11   Crowne Plaza Seattle Downtown 1113 6th Ave, Se...   \n",
       "61   Crowne Plaza Seattle 1113 6th Ave, Seattle, Wa...   \n",
       "671  Watertown Hotel - A Staypineapple Hotel 4242 R...   \n",
       "706  University Inn - A Staypineapple Hotel 4140 Ro...   \n",
       "182  Travelodge Seattle by The Space Needle 200 6th...   \n",
       "621  Executive Inn By The Space Needle 200 Taylor A...   \n",
       "\n",
       "                                            right_side  similarity  \n",
       "826  Pike's Place Lux Suites by Barsala 2rd Ave and...    0.734016  \n",
       "831  Pike's Place Lux Suites by Barsala 2nd Ave and...    0.734016  \n",
       "256  Holiday Inn Express & Suites Seattle-City Cent...    0.712321  \n",
       "206  Holiday Inn Express & Suites Seattle City Cent...    0.712321  \n",
       "181  Travelodge Seattle by The Space Needle 200 6th...    0.669974  \n",
       "211  Travelodge Seattle by The Space Needle 200 6th...    0.669974  \n",
       "836  citizenM Seattle South Lake Union hotel 201 We...    0.651961  \n",
       "791  citizenM Seattle South Lake Union hotel 201 We...    0.651961  \n",
       "586  Quality Inn & Suites Seattle Center 618 John S...    0.627400  \n",
       "551  Quality Inn & Suites Seattle Center 618 John S...    0.627400  \n",
       "746  Hyatt Regency Lake Washington At SeattleS Sout...    0.614371  \n",
       "781  Hyatt Regency Lake Washington At SeattleS Sout...    0.614371  \n",
       "46   Hilton Garden Inn Seattle Downtown 1821 Boren ...    0.602444  \n",
       "1    Hilton Garden Inn Seattle Downtown 1821 Boren ...    0.602444  \n",
       "341  Home2 Suites by Hilton Seattle Airport 380 Upl...    0.582787  \n",
       "346  Home2 Suites by Hilton Seattle Airport 380 Upl...    0.582787  \n",
       "546  Renaissance Seattle Hotel 515 Madison Street, ...    0.531174  \n",
       "561  Renaissance Seattle Hotel 515 Madison St, Seat...    0.531174  \n",
       "391  Travelodge by Wyndham Seattle North of Downtow...    0.528202  \n",
       "396  Days Inn by Wyndham Seattle North of Downtown ...    0.528202  \n",
       "441  Comfort Inn & Suites 13700 Aurora Ave N, Seatt...    0.527696  \n",
       "401  Comfort Inn & Suites 13700 Aurora Avenue North...    0.527696  \n",
       "451  Roy Street Commons 621 12th Ave E, Seattle, WA...    0.499497  \n",
       "411  Roy Street Commons 621 12th Avenue East, Seatt...    0.499497  \n",
       "11   Crowne Plaza Seattle 1113 6th Ave, Seattle, Wa...    0.462001  \n",
       "61   Crowne Plaza Seattle Downtown 1113 6th Ave, Se...    0.462001  \n",
       "671  University Inn - A Staypineapple Hotel 4140 Ro...    0.432854  \n",
       "706  Watertown Hotel - A Staypineapple Hotel 4242 R...    0.432854  \n",
       "182  Executive Inn By The Space Needle 200 Taylor A...    0.428319  \n",
       "621  Travelodge Seattle by The Space Needle 200 6th...    0.428319  "
      ]
     },
     "execution_count": 63,
     "metadata": {},
     "output_type": "execute_result"
    }
   ],
   "source": [
    "matches_df[matches_df['similarity'] < 0.99999].sort_values(by=['similarity'], ascending=False).head(30)"
   ]
  },
  {
   "cell_type": "code",
   "execution_count": 57,
   "metadata": {},
   "outputs": [
    {
     "data": {
      "text/plain": [
       "152"
      ]
     },
     "execution_count": 57,
     "metadata": {},
     "output_type": "execute_result"
    }
   ],
   "source": [
    "matches_df[matches_df['similarity'] < 0.50].right_side.nunique()"
   ]
  },
  {
   "cell_type": "code",
   "execution_count": 30,
   "metadata": {},
   "outputs": [],
   "source": [
    "xx = matches_df.to_csv('xx.csv')"
   ]
  },
  {
   "cell_type": "code",
   "execution_count": 18,
   "metadata": {},
   "outputs": [],
   "source": [
    "xx"
   ]
  },
  {
   "cell_type": "code",
   "execution_count": null,
   "metadata": {},
   "outputs": [],
   "source": []
  }
 ],
 "metadata": {
  "kernelspec": {
   "display_name": "Python 3",
   "language": "python",
   "name": "python3"
  },
  "language_info": {
   "codemirror_mode": {
    "name": "ipython",
    "version": 3
   },
   "file_extension": ".py",
   "mimetype": "text/x-python",
   "name": "python",
   "nbconvert_exporter": "python",
   "pygments_lexer": "ipython3",
   "version": "3.7.5"
  }
 },
 "nbformat": 4,
 "nbformat_minor": 4
}
