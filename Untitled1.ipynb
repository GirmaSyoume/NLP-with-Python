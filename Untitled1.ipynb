{
 "cells": [
  {
   "cell_type": "code",
   "execution_count": 1,
   "metadata": {},
   "outputs": [],
   "source": [
    "\n",
    "import pandas as pd"
   ]
  },
  {
   "cell_type": "code",
   "execution_count": 5,
   "metadata": {},
   "outputs": [],
   "source": [
    "test = pd.read_csv(r\"C:\\Users\\gsyoume\\Desktop\\temp\\Medical_Examiner_Case_Archive_-_COVID-19_Related_Deaths.csv\")"
   ]
  },
  {
   "cell_type": "code",
   "execution_count": 6,
   "metadata": {},
   "outputs": [
    {
     "data": {
      "text/html": [
       "<div>\n",
       "<style scoped>\n",
       "    .dataframe tbody tr th:only-of-type {\n",
       "        vertical-align: middle;\n",
       "    }\n",
       "\n",
       "    .dataframe tbody tr th {\n",
       "        vertical-align: top;\n",
       "    }\n",
       "\n",
       "    .dataframe thead th {\n",
       "        text-align: right;\n",
       "    }\n",
       "</style>\n",
       "<table border=\"1\" class=\"dataframe\">\n",
       "  <thead>\n",
       "    <tr style=\"text-align: right;\">\n",
       "      <th></th>\n",
       "      <th>Case Number</th>\n",
       "      <th>Date of Incident</th>\n",
       "      <th>Date of Death</th>\n",
       "      <th>Age</th>\n",
       "      <th>Gender</th>\n",
       "      <th>Race</th>\n",
       "      <th>Latino</th>\n",
       "      <th>Residence City</th>\n",
       "      <th>Residence_Zip</th>\n",
       "      <th>Manner of Death</th>\n",
       "      <th>...</th>\n",
       "      <th>Gun Related</th>\n",
       "      <th>Opioid Related</th>\n",
       "      <th>Commissioner District</th>\n",
       "      <th>Incident Address</th>\n",
       "      <th>Incident City</th>\n",
       "      <th>Incident Zip Code</th>\n",
       "      <th>longitude</th>\n",
       "      <th>latitude</th>\n",
       "      <th>location</th>\n",
       "      <th>OBJECTID</th>\n",
       "    </tr>\n",
       "  </thead>\n",
       "  <tbody>\n",
       "    <tr>\n",
       "      <th>0</th>\n",
       "      <td>ME2020-01983</td>\n",
       "      <td>04/03/2020 11:44:00 AM</td>\n",
       "      <td>04/03/2020 09:47:00 PM</td>\n",
       "      <td>49.0</td>\n",
       "      <td>Male</td>\n",
       "      <td>Black</td>\n",
       "      <td>False</td>\n",
       "      <td>Chicago</td>\n",
       "      <td>60617</td>\n",
       "      <td>NATURAL</td>\n",
       "      <td>...</td>\n",
       "      <td>False</td>\n",
       "      <td>False</td>\n",
       "      <td>4.0</td>\n",
       "      <td>9627 S. Oglesby Avenue</td>\n",
       "      <td>CHICAGO</td>\n",
       "      <td>60617</td>\n",
       "      <td>-87.565558</td>\n",
       "      <td>41.720503</td>\n",
       "      <td>(41.720502889398006, -87.5655578147615)</td>\n",
       "      <td>108415</td>\n",
       "    </tr>\n",
       "    <tr>\n",
       "      <th>1</th>\n",
       "      <td>ME2020-02819</td>\n",
       "      <td>04/14/2020 12:00:00 AM</td>\n",
       "      <td>04/15/2020 01:24:00 PM</td>\n",
       "      <td>70.0</td>\n",
       "      <td>Male</td>\n",
       "      <td>White</td>\n",
       "      <td>False</td>\n",
       "      <td>Chicago</td>\n",
       "      <td>60645</td>\n",
       "      <td>NATURAL</td>\n",
       "      <td>...</td>\n",
       "      <td>False</td>\n",
       "      <td>False</td>\n",
       "      <td>NaN</td>\n",
       "      <td>Elevate Care/2451 W. Touhy Ave.</td>\n",
       "      <td>CHICAGO</td>\n",
       "      <td>60645</td>\n",
       "      <td>NaN</td>\n",
       "      <td>NaN</td>\n",
       "      <td>NaN</td>\n",
       "      <td>109273</td>\n",
       "    </tr>\n",
       "    <tr>\n",
       "      <th>2</th>\n",
       "      <td>ME2020-03062</td>\n",
       "      <td>04/08/2020 12:00:00 AM</td>\n",
       "      <td>04/09/2020 03:14:00 PM</td>\n",
       "      <td>88.0</td>\n",
       "      <td>Male</td>\n",
       "      <td>Unknown</td>\n",
       "      <td>True</td>\n",
       "      <td>Chicago</td>\n",
       "      <td>60639</td>\n",
       "      <td>NATURAL</td>\n",
       "      <td>...</td>\n",
       "      <td>False</td>\n",
       "      <td>False</td>\n",
       "      <td>8.0</td>\n",
       "      <td>2450 N Central Ave</td>\n",
       "      <td>CHICAGO</td>\n",
       "      <td>60639</td>\n",
       "      <td>-87.766336</td>\n",
       "      <td>41.925570</td>\n",
       "      <td>(41.925570099323515, -87.76633604719125)</td>\n",
       "      <td>109518</td>\n",
       "    </tr>\n",
       "    <tr>\n",
       "      <th>3</th>\n",
       "      <td>ME2020-03164</td>\n",
       "      <td>04/17/2020 10:00:00 AM</td>\n",
       "      <td>04/19/2020 04:17:00 PM</td>\n",
       "      <td>89.0</td>\n",
       "      <td>Male</td>\n",
       "      <td>White</td>\n",
       "      <td>False</td>\n",
       "      <td>Des Plaines</td>\n",
       "      <td>60016</td>\n",
       "      <td>NATURAL</td>\n",
       "      <td>...</td>\n",
       "      <td>False</td>\n",
       "      <td>False</td>\n",
       "      <td>17.0</td>\n",
       "      <td>9393 BAY COLONY DR</td>\n",
       "      <td>DES PLAINES</td>\n",
       "      <td>60016</td>\n",
       "      <td>-87.863323</td>\n",
       "      <td>42.049730</td>\n",
       "      <td>(42.049730075619536, -87.86332332988425)</td>\n",
       "      <td>109614</td>\n",
       "    </tr>\n",
       "    <tr>\n",
       "      <th>4</th>\n",
       "      <td>ME2020-03657</td>\n",
       "      <td>03/31/2020 06:52:00 AM</td>\n",
       "      <td>04/24/2020 09:59:00 PM</td>\n",
       "      <td>60.0</td>\n",
       "      <td>Male</td>\n",
       "      <td>Black</td>\n",
       "      <td>False</td>\n",
       "      <td>Chicago</td>\n",
       "      <td>60637</td>\n",
       "      <td>NATURAL</td>\n",
       "      <td>...</td>\n",
       "      <td>False</td>\n",
       "      <td>False</td>\n",
       "      <td>NaN</td>\n",
       "      <td>5025 S. HARPER AVENUE</td>\n",
       "      <td>CHICAGO</td>\n",
       "      <td>60637</td>\n",
       "      <td>NaN</td>\n",
       "      <td>NaN</td>\n",
       "      <td>NaN</td>\n",
       "      <td>110113</td>\n",
       "    </tr>\n",
       "  </tbody>\n",
       "</table>\n",
       "<p>5 rows × 25 columns</p>\n",
       "</div>"
      ],
      "text/plain": [
       "    Case Number        Date of Incident           Date of Death   Age Gender  \\\n",
       "0  ME2020-01983  04/03/2020 11:44:00 AM  04/03/2020 09:47:00 PM  49.0   Male   \n",
       "1  ME2020-02819  04/14/2020 12:00:00 AM  04/15/2020 01:24:00 PM  70.0   Male   \n",
       "2  ME2020-03062  04/08/2020 12:00:00 AM  04/09/2020 03:14:00 PM  88.0   Male   \n",
       "3  ME2020-03164  04/17/2020 10:00:00 AM  04/19/2020 04:17:00 PM  89.0   Male   \n",
       "4  ME2020-03657  03/31/2020 06:52:00 AM  04/24/2020 09:59:00 PM  60.0   Male   \n",
       "\n",
       "      Race  Latino Residence City Residence_Zip Manner of Death  ...  \\\n",
       "0    Black   False        Chicago         60617         NATURAL  ...   \n",
       "1    White   False        Chicago         60645         NATURAL  ...   \n",
       "2  Unknown    True        Chicago         60639         NATURAL  ...   \n",
       "3    White   False    Des Plaines         60016         NATURAL  ...   \n",
       "4    Black   False        Chicago         60637         NATURAL  ...   \n",
       "\n",
       "  Gun Related Opioid Related Commissioner District  \\\n",
       "0       False          False                   4.0   \n",
       "1       False          False                   NaN   \n",
       "2       False          False                   8.0   \n",
       "3       False          False                  17.0   \n",
       "4       False          False                   NaN   \n",
       "\n",
       "                  Incident Address Incident City Incident Zip Code  longitude  \\\n",
       "0           9627 S. Oglesby Avenue       CHICAGO             60617 -87.565558   \n",
       "1  Elevate Care/2451 W. Touhy Ave.       CHICAGO             60645        NaN   \n",
       "2               2450 N Central Ave       CHICAGO             60639 -87.766336   \n",
       "3               9393 BAY COLONY DR   DES PLAINES             60016 -87.863323   \n",
       "4            5025 S. HARPER AVENUE       CHICAGO             60637        NaN   \n",
       "\n",
       "    latitude                                  location OBJECTID  \n",
       "0  41.720503   (41.720502889398006, -87.5655578147615)   108415  \n",
       "1        NaN                                       NaN   109273  \n",
       "2  41.925570  (41.925570099323515, -87.76633604719125)   109518  \n",
       "3  42.049730  (42.049730075619536, -87.86332332988425)   109614  \n",
       "4        NaN                                       NaN   110113  \n",
       "\n",
       "[5 rows x 25 columns]"
      ]
     },
     "execution_count": 6,
     "metadata": {},
     "output_type": "execute_result"
    }
   ],
   "source": [
    "test.head()\n"
   ]
  },
  {
   "cell_type": "code",
   "execution_count": 8,
   "metadata": {},
   "outputs": [],
   "source": []
  },
  {
   "cell_type": "code",
   "execution_count": 12,
   "metadata": {},
   "outputs": [
    {
     "data": {
      "image/png": "[encoded data removed]",
      "text/plain": [
       "<Figure size 432x288 with 1 Axes>"
      ]
     },
     "metadata": {
      "needs_background": "light"
     },
     "output_type": "display_data"
    }
   ],
   "source": []
  },
  {
   "cell_type": "code",
   "execution_count": 16,
   "metadata": {},
   "outputs": [
    {
     "name": "stderr",
     "output_type": "stream",
     "text": [
      "C:\\Users\\gsyoume\\Documents\\Anaconda\\lib\\site-packages\\contextily\\tile.py:629: UserWarning: The inferred zoom level of 21 is not valid for the current tile provider (valid zooms: 0 - 18).\n",
      "  warnings.warn(msg)\n"
     ]
    },
    {
     "data": {
      "text/plain": [
       "<Figure size 432x288 with 0 Axes>"
      ]
     },
     "metadata": {},
     "output_type": "display_data"
    }
   ],
   "source": []
  },
  {
   "cell_type": "code",
   "execution_count": null,
   "metadata": {},
   "outputs": [],
   "source": []
  }
 ],
 "metadata": {
  "kernelspec": {
   "display_name": "Python 3",
   "language": "python",
   "name": "python3"
  },
  "language_info": {
   "codemirror_mode": {
    "name": "ipython",
    "version": 3
   },
   "file_extension": ".py",
   "mimetype": "text/x-python",
   "name": "python",
   "nbconvert_exporter": "python",
   "pygments_lexer": "ipython3",
   "version": "3.7.5"
  }
 },
 "nbformat": 4,
 "nbformat_minor": 4
}
